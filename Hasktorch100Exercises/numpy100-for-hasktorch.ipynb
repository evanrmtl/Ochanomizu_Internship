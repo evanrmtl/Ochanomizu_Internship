{
 "cells": [
  {
   "cell_type": "markdown",
   "id": "600d2914-b5b4-4519-9a6c-bfda09a916fb",
   "metadata": {},
   "source": [
    "# hasktorch 100 Exercises"
   ]
  },
  {
   "cell_type": "markdown",
   "id": "6a5dc93c-8c1d-43b8-bd2b-5fd2b068a292",
   "metadata": {},
   "source": [
    "This is a collection of exercises that have been collected from https://github.com/rougier/numpy-100.  The number of stars (★) indicates the difficulty of each exercise."
   ]
  },
  {
   "cell_type": "markdown",
   "id": "0636644e-4f91-4bf3-a524-721860c41d20",
   "metadata": {},
   "source": [
    "Import necessary libraries."
   ]
  },
  {
   "cell_type": "code",
   "execution_count": 5,
   "id": "921d4dc2-9b3b-4924-898d-67176f17e7af",
   "metadata": {},
   "outputs": [],
   "source": [
    "import Torch\n",
    "import qualified Torch.Functional as F\n",
    "import qualified Torch.Functional.Internal as FI\n",
    "import qualified Torch.Distributions.Constraints as C"
   ]
  },
  {
   "cell_type": "markdown",
   "id": "46e8e9e2-6231-463b-aa61-cd3dbe1a5510",
   "metadata": {},
   "source": [
    "1. Create a null vector of size 10 but the fifth value is 1 (★☆☆)"
   ]
  },
  {
   "cell_type": "code",
   "execution_count": 232,
   "id": "0e0eed2c-1390-48f0-955f-0c9d62a97bec",
   "metadata": {},
   "outputs": [
    {
     "data": {
      "text/plain": [
       "Tensor Float [10] [ 0.0000,  0.0000,  0.0000,  0.0000,  1.0000   ,  0.0000,  0.0000,  0.0000,  0.0000,  0.0000]"
      ]
     },
     "metadata": {},
     "output_type": "display_data"
    }
   ],
   "source": [
    "let x = zeros' [10]\n",
    "indexPut False ([asTensor (4 :: Int)]) ((asTensor (1 :: Float))) x"
   ]
  },
  {
   "cell_type": "markdown",
   "id": "b4016aee-5142-4b45-b3e6-ea476fd84118",
   "metadata": {},
   "source": [
    "2. Create a vector with values ranging from 10 to 49 (★☆☆)"
   ]
  },
  {
   "cell_type": "code",
   "execution_count": 145,
   "id": "f1126229-938c-4047-8f01-ce9707a46e19",
   "metadata": {},
   "outputs": [
    {
     "data": {
      "text/plain": [
       "Tensor Float [40] [ 10.0000   ,  11.0000   ,  12.0000   ,  13.0000   ,  14.0000   ,  15.0000   ,  16.0000   ,  17.0000   ,  18.0000   ,  19.0000   ,  20.0000   ,  21.0000   ,  22.0000   ,  23.0000   ,  24.0000   ,  25.0000   ,  26.0000   ,  27.0000   ,  28.0000   ,  29.0000   ,  30.0000   ,  31.0000   ,  32.0000   ,  33.0000   ,  34.0000   ,  35.0000   ,  36.0000   ,  37.0000   ,  38.0000   ,  39.0000   ,  40.0000   ,  41.0000   ,  42.0000   ,  43.0000   ,  44.0000   ,  45.0000   ,  46.0000   ,  47.0000   ,  48.0000   ,  49.0000   ]"
      ]
     },
     "metadata": {},
     "output_type": "display_data"
    }
   ],
   "source": [
    "--asTensor [10..49]\n",
    "arange' 10 50 1"
   ]
  },
  {
   "cell_type": "markdown",
   "id": "d0a3f6a8-d2c7-42d3-b9a9-268fa7a980d5",
   "metadata": {},
   "source": [
    "3. Reverse a vector (first element becomes last) (★☆☆)"
   ]
  },
  {
   "cell_type": "code",
   "execution_count": 146,
   "id": "2e904a2c-d16e-4d86-9ba3-f60d96511001",
   "metadata": {},
   "outputs": [
    {
     "data": {
      "text/plain": [
       "Tensor Float [40] [ 10.0000   ,  11.0000   ,  12.0000   ,  13.0000   ,  14.0000   ,  15.0000   ,  16.0000   ,  17.0000   ,  18.0000   ,  19.0000   ,  20.0000   ,  21.0000   ,  22.0000   ,  23.0000   ,  24.0000   ,  25.0000   ,  26.0000   ,  27.0000   ,  28.0000   ,  29.0000   ,  30.0000   ,  31.0000   ,  32.0000   ,  33.0000   ,  34.0000   ,  35.0000   ,  36.0000   ,  37.0000   ,  38.0000   ,  39.0000   ,  40.0000   ,  41.0000   ,  42.0000   ,  43.0000   ,  44.0000   ,  45.0000   ,  46.0000   ,  47.0000   ,  48.0000   ,  49.0000   ]"
      ]
     },
     "metadata": {},
     "output_type": "display_data"
    },
    {
     "data": {
      "text/plain": [
       "Tensor Float [40] [ 49.0000   ,  48.0000   ,  47.0000   ,  46.0000   ,  45.0000   ,  44.0000   ,  43.0000   ,  42.0000   ,  41.0000   ,  40.0000   ,  39.0000   ,  38.0000   ,  37.0000   ,  36.0000   ,  35.0000   ,  34.0000   ,  33.0000   ,  32.0000   ,  31.0000   ,  30.0000   ,  29.0000   ,  28.0000   ,  27.0000   ,  26.0000   ,  25.0000   ,  24.0000   ,  23.0000   ,  22.0000   ,  21.0000   ,  20.0000   ,  19.0000   ,  18.0000   ,  17.0000   ,  16.0000   ,  15.0000   ,  14.0000   ,  13.0000   ,  12.0000   ,  11.0000   ,  10.0000   ]"
      ]
     },
     "metadata": {},
     "output_type": "display_data"
    }
   ],
   "source": [
    "let x = arange' 10 50 1\n",
    "x\n",
    "FI.flipud x\n",
    "\n",
    "--FI.flip x [0,1]\n",
    "--FI.fliplr x"
   ]
  },
  {
   "cell_type": "markdown",
   "id": "4c34192d-b018-41c7-84bc-a3099d5d8d0e",
   "metadata": {},
   "source": [
    "4. Create a 3x3 matrix with values ranging from 0 to 8 (★☆☆)"
   ]
  },
  {
   "cell_type": "code",
   "execution_count": null,
   "id": "b774c2d4-b818-4c71-8228-b26f2036f4bf",
   "metadata": {},
   "outputs": [
    {
     "data": {
      "text/plain": [
       "Tensor Float [3,3] [[ 0.0000,  1.0000   ,  2.0000   ],\n",
       "                    [ 3.0000   ,  4.0000   ,  5.0000   ],\n",
       "                    [ 6.0000   ,  7.0000   ,  8.0000   ]]"
      ]
     },
     "metadata": {},
     "output_type": "display_data"
    }
   ],
   "source": [
    "let x = arange' 0 9 1\n",
    "reshape [3, 3] x"
   ]
  },
  {
   "cell_type": "markdown",
   "id": "8b3592c4-5cc4-4c9c-895c-8ba374498466",
   "metadata": {},
   "source": [
    "5. Find indices of non-zero elements from [1,2,0,0,4,0] (★☆☆)"
   ]
  },
  {
   "cell_type": "code",
   "execution_count": null,
   "id": "15e46a5c-533a-4035-b751-c3171aebd97b",
   "metadata": {},
   "outputs": [
    {
     "data": {
      "text/plain": [
       "[Tensor Int64 [3] [ 0,  1,  4]]"
      ]
     },
     "metadata": {},
     "output_type": "display_data"
    },
    {
     "data": {
      "text/plain": [
       "Tensor Int64 [3,1] [[ 0],\n",
       "                    [ 1],\n",
       "                    [ 4]]"
      ]
     },
     "metadata": {},
     "output_type": "display_data"
    }
   ],
   "source": [
    "let x = asTensor [1,2,0,0,4,0]\n",
    "\n",
    "FI.nonzero_numpy x\n",
    "\n",
    "nonzero x"
   ]
  },
  {
   "cell_type": "markdown",
   "id": "9769e681-7d7a-4011-9c54-8a3f2276126f",
   "metadata": {},
   "source": [
    "6. Create a 3x3 identity matrix (★☆☆)"
   ]
  },
  {
   "cell_type": "code",
   "execution_count": null,
   "id": "8500d496-3730-4e62-a263-c590a1faca7b",
   "metadata": {},
   "outputs": [
    {
     "data": {
      "text/plain": [
       "Tensor Float [3,3] [[ 1.0000   ,  0.0000,  0.0000],\n",
       "                    [ 0.0000,  1.0000   ,  0.0000],\n",
       "                    [ 0.0000,  0.0000,  1.0000   ]]"
      ]
     },
     "metadata": {},
     "output_type": "display_data"
    }
   ],
   "source": [
    "eye' 3 3"
   ]
  },
  {
   "cell_type": "markdown",
   "id": "7e5bedc0-e61a-4530-b7a6-695d1260092b",
   "metadata": {},
   "source": [
    "7. Create a 3x3x3 array with random values (★☆☆)"
   ]
  },
  {
   "cell_type": "code",
   "execution_count": 150,
   "id": "326ad4b6-fc60-4b02-8595-7b4a868937dd",
   "metadata": {},
   "outputs": [
    {
     "data": {
      "text/plain": [
       "Tensor Float [3,3,3] [[[ 0.3084   ,  0.1507   ,  0.4623   ],\n",
       "                       [ 2.4099e-2,  0.9437   ,  0.1630   ],\n",
       "                       [ 8.0840e-2,  0.7445   ,  3.1597e-2]],\n",
       "                      [[ 0.6169   ,  0.3759   ,  0.3474   ],\n",
       "                       [ 0.8483   ,  0.1413   ,  0.4550   ],\n",
       "                       [ 0.3113   ,  2.1750e-2,  0.7101   ]],\n",
       "                      [[ 0.1802   ,  0.4045   ,  0.7872   ],\n",
       "                       [ 0.5137   ,  0.2358   ,  8.2115e-2],\n",
       "                       [ 0.9996   ,  0.3996   ,  0.2039   ]]]"
      ]
     },
     "metadata": {},
     "output_type": "display_data"
    }
   ],
   "source": [
    "--x <- randnLikeIO $ zeros' [3,3,3]\n",
    "--x\n",
    "\n",
    "randIO' [3,3,3]\n",
    "\n",
    "--do\n",
    "--  g <- mkGenerator (Device CPU 0) 101\n",
    "--  let (t, _) = randn' [3,3,3] g\n",
    "--  return t"
   ]
  },
  {
   "cell_type": "markdown",
   "id": "6f2a22a6-ec2e-4bca-b9a0-6e87cb826348",
   "metadata": {},
   "source": [
    "8. Create a 10x10 array with random values and find the minimum and maximum values (★☆☆)"
   ]
  },
  {
   "cell_type": "code",
   "execution_count": 159,
   "id": "4df2a2d6-1a04-4320-9fe5-47f029ac51ff",
   "metadata": {},
   "outputs": [
    {
     "data": {
      "text/plain": [
       "Tensor Float [10,10] [[ 0.8604   ,  1.2462e-2,  0.4590   ,  1.5904e-2,  0.3527   ,  0.5592   ,  0.9241   ,  1.2355e-2,  0.6777   ,  0.1766   ],\n",
       "                      [ 0.3424   ,  0.6452   ,  0.8407   ,  0.1972   ,  0.5678   ,  0.4492   ,  0.6905   ,  0.2661   ,  0.7037   ,  0.5324   ],\n",
       "                      [ 0.5528   ,  2.3466e-2,  0.8947   ,  0.3926   ,  0.4632   ,  2.6914e-3,  0.1260   ,  0.6008   ,  0.7842   ,  0.5246   ],\n",
       "                      [ 0.4400   ,  0.8690   ,  0.3973   ,  0.1272   ,  0.8666   ,  0.4439   ,  0.5271   ,  0.5539   ,  0.2702   ,  0.2769   ],\n",
       "                      [ 0.2312   ,  0.7183   ,  0.8575   ,  0.7070   ,  8.3685e-2,  0.3936   ,  0.1802   ,  0.7945   ,  0.2826   ,  0.7853   ],\n",
       "                      [ 0.2088   ,  0.1299   ,  0.3850   ,  9.8695e-2,  0.9395   ,  0.6367   ,  0.3472   ,  0.4941   ,  0.9504   ,  0.6995   ],\n",
       "                      [ 0.9197   ,  0.1717   ,  0.6964   ,  0.8070   ,  0.1756   ,  0.2795   ,  1.1261e-2,  0.6363   ,  0.4140   ,  0.4600   ],\n",
       "                      [ 0.8331   ,  0.5086   ,  0.2276   ,  0.1833   ,  4.2818e-3,  0.1052   ,  0.9157   ,  0.3024   ,  0.1324   ,  0.8405   ],\n",
       "                      [ 1.2146e-2,  0.2186   ,  0.2235   ,  0.5443   ,  0.6290   ,  0.9538   ,  0.5299   ,  0.5156   ,  0.2860   ,  0.7222   ],\n",
       "                      [ 0.8228   ,  0.5394   ,  0.3349   ,  0.4052   ,  0.1450   ,  0.7554   ,  0.6238   ,  0.6543   ,  0.4533   ,  0.5685   ]]"
      ]
     },
     "metadata": {},
     "output_type": "display_data"
    },
    {
     "data": {
      "text/plain": [
       "Tensor Float []  2.6914e-3"
      ]
     },
     "metadata": {},
     "output_type": "display_data"
    },
    {
     "data": {
      "text/plain": [
       "Tensor Float []  0.9538"
      ]
     },
     "metadata": {},
     "output_type": "display_data"
    }
   ],
   "source": [
    "x <- randIO' [10,10]\n",
    "x\n",
    "F.min x\n",
    "--FI.minAll x\n",
    "F.max x\n",
    "--FI.maxAll x"
   ]
  },
  {
   "cell_type": "markdown",
   "id": "4f8ed47f-c2e7-4ec7-8537-cdec62f4ab68",
   "metadata": {},
   "source": [
    "9. Create a random vector of size 30 and find the mean value (★☆☆)"
   ]
  },
  {
   "cell_type": "code",
   "execution_count": 152,
   "id": "1c0e59b8-59ab-46be-b287-2d9e4804f817",
   "metadata": {},
   "outputs": [
    {
     "data": {
      "text/plain": [
       "Tensor Float [30] [ 0.5909   ,  0.3599   ,  0.8833   ,  0.9516   ,  0.1425   ,  0.6231   ,  0.2340   ,  0.5949   ,  0.4646   ,  0.3088   ,  0.7858   ,  4.0838e-2,  0.4099   ,  0.4648   ,  0.2923   ,  0.1191   ,  4.4100e-2,  0.1634   ,  0.5396   ,  0.4841   ,  0.4225   ,  0.7446   ,  0.3668   ,  0.5086   ,  0.8667   ,  0.6686   ,  0.6914   ,  0.3952   ,  0.3535   ,  0.1072   ]"
      ]
     },
     "metadata": {},
     "output_type": "display_data"
    },
    {
     "data": {
      "text/plain": [
       "Tensor Float []  0.4541"
      ]
     },
     "metadata": {},
     "output_type": "display_data"
    }
   ],
   "source": [
    "x <- randIO' [30]\n",
    "x\n",
    "F.mean x"
   ]
  },
  {
   "cell_type": "markdown",
   "id": "a3f542c4-a659-4759-8e2c-4ce5dd61befb",
   "metadata": {},
   "source": [
    "10. Create a 2d array with 1 on the border and 0 inside (★☆☆)"
   ]
  },
  {
   "cell_type": "code",
   "execution_count": null,
   "id": "6c0f7364-9f3f-4483-bafc-089cf98444ee",
   "metadata": {},
   "outputs": [
    {
     "data": {
      "text/plain": [
       "Tensor Float [4,5] [[ 1.0000   ,  1.0000   ,  1.0000   ,  1.0000   ,  1.0000   ],\n",
       "                    [ 1.0000   ,  0.0000,  0.0000,  0.0000,  1.0000   ],\n",
       "                    [ 1.0000   ,  0.0000,  0.0000,  0.0000,  1.0000   ],\n",
       "                    [ 1.0000   ,  0.0000,  0.0000,  0.0000,  1.0000   ]]"
      ]
     },
     "metadata": {},
     "output_type": "display_data"
    }
   ],
   "source": [
    "let x = zeros' [3,3]\n",
    "FI.constant_pad_nd x [1, 1, 1, 1] 1\n",
    "\n",
    "--FI.reflection_pad2d x (1,1,1,1) Not working?"
   ]
  },
  {
   "cell_type": "markdown",
   "id": "98b18445-8fd7-4305-bbdb-f3d2cbc25697",
   "metadata": {},
   "source": [
    "11. How to add a border (filled with 0's) around an existing array? (★☆☆)"
   ]
  },
  {
   "cell_type": "code",
   "execution_count": null,
   "id": "f593c0ee-310d-43a4-8af2-c9f0121f4c21",
   "metadata": {},
   "outputs": [
    {
     "data": {
      "text/plain": [
       "Tensor Float [7,6] [[ 0.0000,  0.0000,  0.0000,  0.0000,  0.0000,  0.0000],\n",
       "                    [ 0.0000,  1.0000   ,  1.0000   ,  1.0000   ,  1.0000   ,  0.0000],\n",
       "                    [ 0.0000,  1.0000   ,  1.0000   ,  1.0000   ,  1.0000   ,  0.0000],\n",
       "                    [ 0.0000,  1.0000   ,  1.0000   ,  1.0000   ,  1.0000   ,  0.0000],\n",
       "                    [ 0.0000,  1.0000   ,  1.0000   ,  1.0000   ,  1.0000   ,  0.0000],\n",
       "                    [ 0.0000,  1.0000   ,  1.0000   ,  1.0000   ,  1.0000   ,  0.0000],\n",
       "                    [ 0.0000,  0.0000,  0.0000,  0.0000,  0.0000,  0.0000]]"
      ]
     },
     "metadata": {},
     "output_type": "display_data"
    }
   ],
   "source": [
    "let x = ones' [5,4]\n",
    "FI.constant_pad_nd x [1,1,1,1] 0"
   ]
  },
  {
   "cell_type": "markdown",
   "id": "b4889a8a-6377-404e-abec-71cc696b78bb",
   "metadata": {},
   "source": [
    "12. Create a 5x5 matrix with values 1,2,3,4 just below the diagonal (★☆☆)"
   ]
  },
  {
   "cell_type": "code",
   "execution_count": 322,
   "id": "17befd85-57c6-4ffa-a6cf-0e4347b233e8",
   "metadata": {},
   "outputs": [
    {
     "data": {
      "text/plain": [
       "Tensor Float [5,5] [[ 0.0000,  0.0000,  0.0000,  0.0000,  0.0000],\n",
       "                    [ 1.0000   ,  0.0000,  0.0000,  0.0000,  0.0000],\n",
       "                    [ 0.0000,  2.0000   ,  0.0000,  0.0000,  0.0000],\n",
       "                    [ 0.0000,  0.0000,  3.0000   ,  0.0000,  0.0000],\n",
       "                    [ 0.0000,  0.0000,  0.0000,  4.0000   ,  0.0000]]"
      ]
     },
     "metadata": {},
     "output_type": "display_data"
    }
   ],
   "source": [
    "let x = arange' 1 5 1\n",
    "F.diagEmbed (Diag (-1)) (Dim 0) (Dim 1) x"
   ]
  },
  {
   "cell_type": "markdown",
   "id": "ca4997cc-d422-4fd4-8039-b705571d5df5",
   "metadata": {},
   "source": [
    "13. Consider a (6,7,8) shape array, what is the index (x,y,z) of the 100th element?"
   ]
  },
  {
   "cell_type": "code",
   "execution_count": 324,
   "id": "19226256-7462-44be-9e97-1991548e2ed4",
   "metadata": {},
   "outputs": [
    {
     "data": {
      "text/plain": [
       "Tensor Float [6,7,8] [[[ 0.0000,  0.0000,  0.0000,  0.0000,  0.0000,  0.0000,  0.0000,  0.0000],\n",
       "                       [ 0.0000,  0.0000,  0.0000,  0.0000,  0.0000,  0.0000,  0.0000,  0.0000],\n",
       "                       [ 0.0000,  0.0000,  0.0000,  0.0000,  0.0000,  0.0000,  0.0000,  0.0000],\n",
       "                       [ 0.0000,  0.0000,  0.0000,  0.0000,  0.0000,  0.0000,  0.0000,  0.0000],\n",
       "                       [ 0.0000,  0.0000,  0.0000,  0.0000,  0.0000,  0.0000,  0.0000,  0.0000],\n",
       "                       [ 0.0000,  0.0000,  0.0000,  0.0000,  0.0000,  0.0000,  0.0000,  0.0000],\n",
       "                       [ 0.0000,  0.0000,  0.0000,  0.0000,  0.0000,  0.0000,  0.0000,  0.0000]],\n",
       "                      [[ 0.0000,  0.0000,  0.0000,  0.0000,  0.0000,  0.0000,  0.0000,  0.0000],\n",
       "                       [ 0.0000,  0.0000,  0.0000,  0.0000,  0.0000,  0.0000,  0.0000,  0.0000],\n",
       "                       [ 0.0000,  0.0000,  0.0000,  0.0000,  0.0000,  0.0000,  0.0000,  0.0000],\n",
       "                       [ 0.0000,  0.0000,  0.0000,  0.0000,  0.0000,  0.0000,  0.0000,  0.0000],\n",
       "                       [ 0.0000,  0.0000,  0.0000,  0.0000,  0.0000,  0.0000,  0.0000,  0.0000],\n",
       "                       [ 0.0000,  0.0000,  0.0000,  0.0000,  0.0000,  0.0000,  0.0000,  0.0000],\n",
       "                       [ 0.0000,  0.0000,  0.0000,  0.0000,  0.0000,  0.0000,  0.0000,  0.0000]],\n",
       "                      [[ 0.0000,  0.0000,  0.0000,  0.0000,  0.0000,  0.0000,  0.0000,  0.0000],\n",
       "                       [ 0.0000,  0.0000,  0.0000,  0.0000,  0.0000,  0.0000,  0.0000,  0.0000],\n",
       "                       [ 0.0000,  0.0000,  0.0000,  0.0000,  0.0000,  0.0000,  0.0000,  0.0000],\n",
       "                       [ 0.0000,  0.0000,  0.0000,  0.0000,  0.0000,  0.0000,  0.0000,  0.0000],\n",
       "                       [ 0.0000,  0.0000,  0.0000,  0.0000,  0.0000,  0.0000,  0.0000,  0.0000],\n",
       "                       [ 0.0000,  0.0000,  0.0000,  0.0000,  0.0000,  0.0000,  0.0000,  0.0000],\n",
       "                       [ 0.0000,  0.0000,  0.0000,  0.0000,  0.0000,  0.0000,  0.0000,  0.0000]],\n",
       "                      [[ 0.0000,  0.0000,  0.0000,  0.0000,  0.0000,  0.0000,  0.0000,  0.0000],\n",
       "                       [ 0.0000,  0.0000,  0.0000,  0.0000,  0.0000,  0.0000,  0.0000,  0.0000],\n",
       "                       [ 0.0000,  0.0000,  0.0000,  0.0000,  0.0000,  0.0000,  0.0000,  0.0000],\n",
       "                       [ 0.0000,  0.0000,  0.0000,  0.0000,  0.0000,  0.0000,  0.0000,  0.0000],\n",
       "                       [ 0.0000,  0.0000,  0.0000,  0.0000,  0.0000,  0.0000,  0.0000,  0.0000],\n",
       "                       [ 0.0000,  0.0000,  0.0000,  0.0000,  0.0000,  0.0000,  0.0000,  0.0000],\n",
       "                       [ 0.0000,  0.0000,  0.0000,  0.0000,  0.0000,  0.0000,  0.0000,  0.0000]],\n",
       "                      [[ 0.0000,  0.0000,  0.0000,  0.0000,  0.0000,  0.0000,  0.0000,  0.0000],\n",
       "                       [ 0.0000,  0.0000,  0.0000,  0.0000,  0.0000,  0.0000,  0.0000,  0.0000],\n",
       "                       [ 0.0000,  0.0000,  0.0000,  0.0000,  0.0000,  0.0000,  0.0000,  0.0000],\n",
       "                       [ 0.0000,  0.0000,  0.0000,  0.0000,  0.0000,  0.0000,  0.0000,  0.0000],\n",
       "                       [ 0.0000,  0.0000,  0.0000,  0.0000,  0.0000,  0.0000,  0.0000,  0.0000],\n",
       "                       [ 0.0000,  0.0000,  0.0000,  0.0000,  0.0000,  0.0000,  0.0000,  0.0000],\n",
       "                       [ 0.0000,  0.0000,  0.0000,  0.0000,  0.0000,  0.0000,  0.0000,  0.0000]],\n",
       "                      [[ 0.0000,  0.0000,  0.0000,  0.0000,  0.0000,  0.0000,  0.0000,  0.0000],\n",
       "                       [ 0.0000,  0.0000,  0.0000,  0.0000,  0.0000,  0.0000,  0.0000,  0.0000],\n",
       "                       [ 0.0000,  0.0000,  0.0000,  0.0000,  0.0000,  0.0000,  0.0000,  0.0000],\n",
       "                       [ 0.0000,  0.0000,  0.0000,  0.0000,  0.0000,  0.0000,  0.0000,  0.0000],\n",
       "                       [ 0.0000,  0.0000,  0.0000,  0.0000,  0.0000,  0.0000,  0.0000,  0.0000],\n",
       "                       [ 0.0000,  0.0000,  0.0000,  0.0000,  0.0000,  0.0000,  0.0000,  0.0000],\n",
       "                       [ 0.0000,  0.0000,  0.0000,  0.0000,  0.0000,  0.0000,  0.0000,  0.0000]]]"
      ]
     },
     "metadata": {},
     "output_type": "display_data"
    },
    {
     "ename": "",
     "evalue": "",
     "output_type": "error",
     "traceback": [
      "<interactive>:1:9: error:\n    • Couldn't match expected type ‘Tensor’ with actual type ‘[Tensor]’\n    • In the second argument of ‘index’, namely ‘[asTensor 100]’\n      In the expression: index x [asTensor 100]\n      In an equation for ‘it’: it = index x [asTensor 100]\n<interactive>:1:7: error:\n    • Couldn't match expected type ‘[Tensor]’ with actual type ‘Tensor’\n    • In the first argument of ‘index’, namely ‘x’\n      In the expression: index x [asTensor 100]\n      In an equation for ‘it’: it = index x [asTensor 100]"
     ]
    }
   ],
   "source": [
    "let x = zeros' [6,7,8]\n",
    "x\n",
    "index x [asTensor 100]"
   ]
  },
  {
   "cell_type": "markdown",
   "id": "d56cf4d1-b36d-4d01-a3ed-5f7711a8503e",
   "metadata": {},
   "source": [
    "14. Normalize a 5x5 random matrix (★☆☆)"
   ]
  },
  {
   "cell_type": "code",
   "execution_count": 88,
   "id": "6636444e-8024-47ad-8fe4-5781b3516afe",
   "metadata": {},
   "outputs": [
    {
     "data": {
      "text/plain": [
       "Tensor Float [5,5] [[-1.3247   ,  0.8876   ,  1.3699   ,  1.3014   , -1.0985   ],\n",
       "                    [-0.9098   , -1.1219   ,  2.0657   ,  1.1042   ,  0.2758   ],\n",
       "                    [-0.1294   , -0.9894   ,  1.5742   ,  0.5530   , -0.2165   ],\n",
       "                    [-1.3502   ,  1.6913   ,  0.3141   , -0.4854   , -0.2506   ],\n",
       "                    [-0.6498   ,  0.2239   ,  1.0318   ,  1.1008   ,  0.5254   ]]"
      ]
     },
     "metadata": {},
     "output_type": "display_data"
    },
    {
     "data": {
      "text/plain": [
       "Tensor Float [5,5] [[-1.4927   ,  0.6455   ,  1.1116   ,  1.0454   , -1.2740   ],\n",
       "                    [-1.0917   , -1.2966   ,  1.7841   ,  0.8549   ,  5.4186e-2],\n",
       "                    [-0.3374   , -1.1686   ,  1.3091   ,  0.3221   , -0.4216   ],\n",
       "                    [-1.5173   ,  1.4222   ,  9.1217e-2, -0.6815   , -0.4546   ],\n",
       "                    [-0.8404   ,  4.0401e-3,  0.7849   ,  0.8516   ,  0.2954   ]]"
      ]
     },
     "metadata": {},
     "output_type": "display_data"
    }
   ],
   "source": [
    "matrix <- randnIO' [5, 5]\n",
    "matrix"
   ]
  },
  {
   "cell_type": "markdown",
   "id": "11c33439-cb77-4741-b5a1-91aa0328e46c",
   "metadata": {},
   "source": [
    "15. Multiply a 5x3 matrix by a 3x2 matrix (real matrix product) (★☆☆)"
   ]
  },
  {
   "cell_type": "code",
   "execution_count": null,
   "id": "262ac1bf-2374-4b90-843e-b6c05b3a1f34",
   "metadata": {},
   "outputs": [
    {
     "data": {
      "text/plain": [
       "Tensor Float [5,2] [[ 22.0000   ,  28.0000   ],\n",
       "                    [ 49.0000   ,  64.0000   ],\n",
       "                    [ 76.0000   ,  100.0000   ],\n",
       "                    [ 103.0000   ,  136.0000   ],\n",
       "                    [ 130.0000   ,  172.0000   ]]"
      ]
     },
     "metadata": {},
     "output_type": "display_data"
    }
   ],
   "source": [
    "let x = reshape [5,3] $ arange' 1 16 1\n",
    "let y = reshape [3,2] $ arange' 1 7 1\n",
    "F.matmul x y"
   ]
  },
  {
   "cell_type": "markdown",
   "id": "dc3c9d61-bb7a-4523-9539-9c84f25b01b1",
   "metadata": {},
   "source": [
    "16. Given a 1D array, negate all elements which are between 3 and 8, in place. (★☆☆)"
   ]
  },
  {
   "cell_type": "code",
   "execution_count": null,
   "id": "748293fc-1f1b-4a34-90f7-22939c0783b6",
   "metadata": {},
   "outputs": [
    {
     "data": {
      "text/plain": [
       "Tensor Float [9] [ 1.0000   ,  2.0000   , -3.0000   , -4.0000   , -5.0000   , -6.0000   , -7.0000   , -8.0000   ,  9.0000   ]"
      ]
     },
     "metadata": {},
     "output_type": "display_data"
    }
   ],
   "source": [
    "let x = arange' 1 10 1\n",
    "let mask = C.interval 3 8  x\n",
    "FI.where' mask (-x) x"
   ]
  },
  {
   "cell_type": "markdown",
   "id": "59bc1b30-15e3-4d39-b186-eeac59c21d16",
   "metadata": {},
   "source": [
    "17. How to round away from zero a float array ? (★☆☆)"
   ]
  },
  {
   "cell_type": "code",
   "execution_count": 61,
   "id": "71198ba6-aaca-4d6c-9e65-c1a7e7bf4e6d",
   "metadata": {},
   "outputs": [
    {
     "data": {
      "text/plain": [
       "Tensor Float [2,3] [[ 3.2807e-2, -1.0328   ,  0.1031   ],\n",
       "                    [-0.9188   , -0.7948   , -2.3817   ]]"
      ]
     },
     "metadata": {},
     "output_type": "display_data"
    },
    {
     "data": {
      "text/plain": [
       "Tensor Float [2,3] [[ 1.0000   , -2.0000   ,  1.0000   ],\n",
       "                    [-1.0000   , -1.0000   , -3.0000   ]]"
      ]
     },
     "metadata": {},
     "output_type": "display_data"
    }
   ],
   "source": [
    "x <- randnIO' [2, 3]\n",
    "x\n",
    "let pos = C.positive x\n",
    "FI.where' pos (FI.ceil x) (FI.floor x)"
   ]
  },
  {
   "cell_type": "markdown",
   "id": "bc51e140-d4f3-4d8e-a574-0d5745caf11f",
   "metadata": {},
   "source": [
    "18. How to find common values between two arrays? (★☆☆)"
   ]
  },
  {
   "cell_type": "code",
   "execution_count": 84,
   "id": "d2878930-a57e-4d63-bcf9-fad5973415a7",
   "metadata": {},
   "outputs": [
    {
     "ename": "",
     "evalue": "",
     "output_type": "error",
     "traceback": [
      "<interactive>:1:11: error:\n    • No instance for (Num Dim) arising from the literal ‘0’\n    • In the first argument of ‘unsqueeze’, namely ‘0’\n      In the expression: unsqueeze 0 x\n      In an equation for ‘it’: it = unsqueeze 0 x"
     ]
    }
   ],
   "source": [
    "let x = reshape [3,3] $ arange' 1 10 1\n",
    "let y = reshape [3,3] $ arange' 6 15 1\n",
    "\n",
    "unsqueeze 0 x"
   ]
  },
  {
   "cell_type": "markdown",
   "id": "806fe64d-bc4e-45a1-9b08-822129b441d7",
   "metadata": {},
   "source": [
    "19. How to compute ((A+B)*(-A/2)) in place (without copy)? (★★☆)"
   ]
  },
  {
   "cell_type": "code",
   "execution_count": 93,
   "id": "bbec5bc2-e2c7-4fad-8b2f-931a30d96722",
   "metadata": {},
   "outputs": [
    {
     "data": {
      "text/plain": [
       "Tensor Float [3,3] [[-3.5000   , -9.0000   , -16.5000   ],\n",
       "                    [-26.0000   , -37.5000   , -51.0000   ],\n",
       "                    [-66.5000   , -84.0000   , -103.5000   ]]"
      ]
     },
     "metadata": {},
     "output_type": "display_data"
    }
   ],
   "source": [
    "let x = reshape [3,3] $ arange' 1 10 1\n",
    "let y = reshape [3,3] $ arange' 6 15 1\n",
    "\n",
    "(x `F.add` y) `F.mul` ((-x) `F.div` 2)\n",
    "\n",
    "--There is copy so idk how to do that"
   ]
  },
  {
   "cell_type": "markdown",
   "id": "0fc50bed-4eaf-42d4-bd3e-7557722a7d5c",
   "metadata": {},
   "source": [
    "20. Extract the integer part of a random array of positive numbers using 4 different methods (★★☆)"
   ]
  },
  {
   "cell_type": "code",
   "execution_count": null,
   "id": "d3d45577-ff29-4201-86f1-20446db07f24",
   "metadata": {},
   "outputs": [],
   "source": []
  },
  {
   "cell_type": "markdown",
   "id": "a821f472-3a24-41fd-a47c-529d3fd67493",
   "metadata": {},
   "source": [
    "21. Create a 5x5 matrix with row values ranging from 0 to 4 (★★☆)"
   ]
  },
  {
   "cell_type": "code",
   "execution_count": null,
   "id": "d23ccf88-aa00-42c5-a862-bcb453fe5515",
   "metadata": {},
   "outputs": [],
   "source": []
  },
  {
   "cell_type": "markdown",
   "id": "22f5ce30-4f6b-473d-9119-8ac377724a31",
   "metadata": {},
   "source": [
    "22. Consider a generator function that generates 10 integers and use it to build an array (★☆☆)"
   ]
  },
  {
   "cell_type": "code",
   "execution_count": null,
   "id": "f5dba386-426b-4399-94a3-52db92e6ebbc",
   "metadata": {},
   "outputs": [],
   "source": []
  },
  {
   "cell_type": "markdown",
   "id": "dbf3b87c-7c9d-4ac4-9edc-010373dd4244",
   "metadata": {},
   "source": [
    "23. Create a vector of size 10 with values ranging from 0 to 1, both excluded (★★☆)"
   ]
  },
  {
   "cell_type": "code",
   "execution_count": null,
   "id": "473e3c31-3671-475b-bb52-ede6206db27d",
   "metadata": {},
   "outputs": [],
   "source": []
  },
  {
   "cell_type": "markdown",
   "id": "a43b97a3-2c0c-4525-ac4b-d9b29d839620",
   "metadata": {},
   "source": [
    "24. Create a random vector of size 10 and sort it (★★☆)"
   ]
  },
  {
   "cell_type": "code",
   "execution_count": null,
   "id": "0e90c12f-eddd-4c2c-8ffb-daf1c01a43bf",
   "metadata": {},
   "outputs": [],
   "source": []
  },
  {
   "cell_type": "markdown",
   "id": "2224fe0b-d6a7-474a-8791-5a4fff57868f",
   "metadata": {},
   "source": [
    "25. How to sum a small array faster than Torch.Tensor.sum? (★★☆)"
   ]
  },
  {
   "cell_type": "code",
   "execution_count": null,
   "id": "bdbf1cbc-473d-470b-bc2a-d3c3eefc13bd",
   "metadata": {},
   "outputs": [],
   "source": []
  },
  {
   "cell_type": "markdown",
   "id": "2ee87e96-089e-4c2d-a03a-826140d477c8",
   "metadata": {},
   "source": [
    "26. Consider two random array A and B, check if they are equal (★★☆)"
   ]
  },
  {
   "cell_type": "code",
   "execution_count": null,
   "id": "77906101-1fa2-4bfa-a8d2-70ad817a2306",
   "metadata": {},
   "outputs": [],
   "source": []
  },
  {
   "cell_type": "markdown",
   "id": "33315414-9960-487b-ab45-166a790b1f77",
   "metadata": {},
   "source": [
    "27. Make an array immutable (read-only) (★★☆)"
   ]
  },
  {
   "cell_type": "code",
   "execution_count": null,
   "id": "4c812f3a-ec8c-408a-9796-c80f8d945554",
   "metadata": {},
   "outputs": [],
   "source": []
  },
  {
   "cell_type": "markdown",
   "id": "a40ece3b-f3ab-4c2e-b80f-371c9890385a",
   "metadata": {},
   "source": [
    "28. Consider a random 10x2 matrix representing cartesian coordinates, convert them to polar coordinates (★★☆)"
   ]
  },
  {
   "cell_type": "code",
   "execution_count": null,
   "id": "4f947539-9ba3-44c1-a909-193503fc3352",
   "metadata": {},
   "outputs": [],
   "source": []
  },
  {
   "cell_type": "markdown",
   "id": "3e5e68f7-7937-4484-b540-b6ece4875262",
   "metadata": {},
   "source": [
    "29. Create random vector of size 10 and replace the maximum value by 0 (★★☆)"
   ]
  },
  {
   "cell_type": "code",
   "execution_count": null,
   "id": "1000cedf-4954-4d6d-a591-5128deec0a4f",
   "metadata": {},
   "outputs": [],
   "source": []
  },
  {
   "cell_type": "markdown",
   "id": "601ba002-0e3c-4dec-8f0a-61697760f202",
   "metadata": {},
   "source": [
    "30. Create a structured array with x and y coordinates covering the [0,1]x[0,1] area (★★☆)"
   ]
  },
  {
   "cell_type": "code",
   "execution_count": null,
   "id": "56912001-77ce-4758-a022-ea01f45d7daa",
   "metadata": {},
   "outputs": [],
   "source": []
  },
  {
   "cell_type": "markdown",
   "id": "172aa4af-f6ac-49e7-8658-feb5f50cbc4b",
   "metadata": {},
   "source": [
    "31. Given two arrays, X and Y, construct the Cauchy matrix C (Cij =1/(xi - yj))"
   ]
  },
  {
   "cell_type": "code",
   "execution_count": null,
   "id": "5df68946-d183-4e59-a595-76091a6d53dc",
   "metadata": {},
   "outputs": [],
   "source": []
  },
  {
   "cell_type": "markdown",
   "id": "67bb934b-594a-47fd-af00-ef102ed95d2c",
   "metadata": {},
   "source": [
    "32. Print the minimum and maximum representable value for each numpy scalar type (★★☆)"
   ]
  },
  {
   "cell_type": "code",
   "execution_count": null,
   "id": "40cf8f29-607f-4d10-bb35-e16c0591f25d",
   "metadata": {},
   "outputs": [],
   "source": []
  },
  {
   "cell_type": "markdown",
   "id": "262e67b8-f2a4-4bf8-8acd-02e4af2c0a4d",
   "metadata": {},
   "source": [
    "33. How to print all the values of an array? (★★☆)"
   ]
  },
  {
   "cell_type": "code",
   "execution_count": null,
   "id": "ba8d20bf-0762-4fde-9d07-04551517307b",
   "metadata": {},
   "outputs": [],
   "source": []
  },
  {
   "cell_type": "markdown",
   "id": "72f3afd1-9199-4e59-aeb6-3411a5747221",
   "metadata": {},
   "source": [
    "34. How to find the closest value (to a given scalar) in a vector? (★★☆)"
   ]
  },
  {
   "cell_type": "code",
   "execution_count": null,
   "id": "03d2757a-ac96-400b-b159-9f9b8cd2668b",
   "metadata": {},
   "outputs": [],
   "source": []
  },
  {
   "cell_type": "markdown",
   "id": "84e1a0f3-65f5-45db-961e-5c35ccb70eb3",
   "metadata": {},
   "source": [
    "35. Create a structured array representing a position (x,y) and a color (r,g,b) (★★☆)"
   ]
  },
  {
   "cell_type": "code",
   "execution_count": null,
   "id": "3356ff60-38f9-46b8-a455-ff44175fde85",
   "metadata": {},
   "outputs": [],
   "source": []
  },
  {
   "cell_type": "markdown",
   "id": "c196ebf6-02d2-4f97-bb9c-3552b7790806",
   "metadata": {},
   "source": [
    "36. Consider a random vector with shape (100,2) representing coordinates, find point by point distances (★★☆)"
   ]
  },
  {
   "cell_type": "code",
   "execution_count": null,
   "id": "6f564776-f859-4813-b5ba-96010d9c4c79",
   "metadata": {},
   "outputs": [],
   "source": []
  },
  {
   "cell_type": "markdown",
   "id": "004e31df-9fe8-45fe-b488-5fc85f7640a7",
   "metadata": {},
   "source": [
    "37. How to convert a float (32 bits) array into an integer (32 bits) in place?"
   ]
  },
  {
   "cell_type": "code",
   "execution_count": null,
   "id": "48ac0899-5e1c-42aa-8c91-e6685b7e1a83",
   "metadata": {},
   "outputs": [],
   "source": []
  },
  {
   "cell_type": "markdown",
   "id": "f97bd4c5-4927-4d77-bcd3-a7da90b7398b",
   "metadata": {},
   "source": [
    "38. What is the equivalent of enumerate for numpy arrays? (★★☆)"
   ]
  },
  {
   "cell_type": "code",
   "execution_count": null,
   "id": "cd1eb29b-ab12-44bd-a218-05749355277a",
   "metadata": {},
   "outputs": [],
   "source": []
  },
  {
   "cell_type": "markdown",
   "id": "583a4a15-1744-4226-97d0-56f510c7f8cd",
   "metadata": {},
   "source": [
    "39. Generate a generic 2D Gaussian-like array (★★☆)"
   ]
  },
  {
   "cell_type": "code",
   "execution_count": null,
   "id": "5db7d50b-7e7f-4605-b603-84b417f8cc41",
   "metadata": {},
   "outputs": [],
   "source": []
  },
  {
   "cell_type": "markdown",
   "id": "39eadfe8-f112-4fee-9231-d3a93cd1ab3f",
   "metadata": {},
   "source": [
    "40. How to randomly place p elements in a 2D array? (★★☆)"
   ]
  },
  {
   "cell_type": "code",
   "execution_count": null,
   "id": "170dd022-8a33-4445-bba2-5cd4d278348e",
   "metadata": {},
   "outputs": [],
   "source": []
  },
  {
   "cell_type": "markdown",
   "id": "47d6304f-7a48-4f60-ac11-558ade206803",
   "metadata": {},
   "source": [
    "41. Subtract the mean of each row of a matrix (★★☆)"
   ]
  },
  {
   "cell_type": "code",
   "execution_count": null,
   "id": "6fa4b368-7114-4f6a-a456-fbc08a5313e7",
   "metadata": {},
   "outputs": [],
   "source": []
  },
  {
   "cell_type": "markdown",
   "id": "046f379c-f30f-4cf7-b216-95ca6db47f72",
   "metadata": {},
   "source": [
    "42. How to sort an array by the nth column? (★★☆)"
   ]
  },
  {
   "cell_type": "code",
   "execution_count": null,
   "id": "07f78b84-f3de-4af1-91fe-e09d1a6c5992",
   "metadata": {},
   "outputs": [],
   "source": []
  },
  {
   "cell_type": "markdown",
   "id": "b0c28d22-be8f-4c9e-b20d-bf168a47af66",
   "metadata": {},
   "source": [
    "43. How to tell if a given 2D array has null columns? (★★☆)"
   ]
  },
  {
   "cell_type": "code",
   "execution_count": null,
   "id": "75e26a65-448d-4aca-bbcf-58d2805d4350",
   "metadata": {},
   "outputs": [],
   "source": []
  },
  {
   "cell_type": "markdown",
   "id": "ca48cbb1-84a1-4fd2-85ad-9ecc6cec5223",
   "metadata": {},
   "source": [
    "44. Find the nearest value from a given value in an array (★★☆)"
   ]
  },
  {
   "cell_type": "code",
   "execution_count": null,
   "id": "93773309-445e-463c-b9dc-1c366044b072",
   "metadata": {},
   "outputs": [],
   "source": []
  },
  {
   "cell_type": "markdown",
   "id": "a0d258ff-322e-4fbb-bbda-29f24f5c0e89",
   "metadata": {},
   "source": [
    "45. Considering two arrays with shape (1,3) and (3,1), how to compute their sum using an iterator? (★★☆)"
   ]
  },
  {
   "cell_type": "code",
   "execution_count": null,
   "id": "ae4d3751-6c32-44e5-8f27-9df9c8211d82",
   "metadata": {},
   "outputs": [],
   "source": []
  },
  {
   "cell_type": "markdown",
   "id": "3b6273c8-e13a-4786-aed6-98c545945ec7",
   "metadata": {},
   "source": [
    "46. Create an array class that has a name attribute (★★☆)"
   ]
  },
  {
   "cell_type": "code",
   "execution_count": null,
   "id": "325fedf4-005b-4e2e-9ee0-c1da006fa884",
   "metadata": {},
   "outputs": [],
   "source": []
  },
  {
   "cell_type": "markdown",
   "id": "9fb89c4f-2644-49ad-8791-8203c067d52e",
   "metadata": {},
   "source": [
    "47. Consider a given vector, how to add 1 to each element indexed by a second vector (be careful with repeated indices)? (★★★)"
   ]
  },
  {
   "cell_type": "code",
   "execution_count": null,
   "id": "698b5bbb-0a07-4aa9-a78a-63505e6913d1",
   "metadata": {},
   "outputs": [],
   "source": []
  },
  {
   "cell_type": "markdown",
   "id": "997e78ec-ae57-4c48-aa3d-2a19a2db60c7",
   "metadata": {},
   "source": [
    "48. How to accumulate elements of a vector (X) to an array (F) based on an index list (I)? (★★★)"
   ]
  },
  {
   "cell_type": "code",
   "execution_count": null,
   "id": "ec3ce6ec-db11-4569-ba03-9d1d19b990f4",
   "metadata": {},
   "outputs": [],
   "source": []
  },
  {
   "cell_type": "markdown",
   "id": "7a72fe96-ad57-4544-8b82-a49cb789c4f2",
   "metadata": {},
   "source": [
    "49. Considering a (w,h,3) image of (dtype=ubyte), compute the number of unique colors (★★☆)"
   ]
  },
  {
   "cell_type": "code",
   "execution_count": null,
   "id": "fe565d80-9538-4cc9-97e7-6a15bd1c7474",
   "metadata": {},
   "outputs": [],
   "source": []
  },
  {
   "cell_type": "markdown",
   "id": "f4353ea0-15b7-4f32-ac55-36e9c93d9657",
   "metadata": {},
   "source": [
    "50. Considering a four dimensions array, how to get sum over the last two axis at once? (★★★)"
   ]
  },
  {
   "cell_type": "code",
   "execution_count": null,
   "id": "b8af3ff7-458a-4a30-b83a-30cbf741fdb6",
   "metadata": {},
   "outputs": [],
   "source": []
  },
  {
   "cell_type": "markdown",
   "id": "8187ca39-de94-46cc-8530-14956d8d4b8a",
   "metadata": {},
   "source": [
    "51. Considering a one-dimensional vector D, how to compute means of subsets of D using a vector S of same size describing subset indices? (★★★)"
   ]
  },
  {
   "cell_type": "code",
   "execution_count": null,
   "id": "a70c6aea-1d17-446e-ab8b-d478873471f8",
   "metadata": {},
   "outputs": [],
   "source": []
  },
  {
   "cell_type": "markdown",
   "id": "79ee0568-febd-4987-b1fa-c535556b1e79",
   "metadata": {},
   "source": [
    "52. How to get the diagonal of a dot product? (★★★)"
   ]
  },
  {
   "cell_type": "code",
   "execution_count": null,
   "id": "c9f5cfe5-3dd9-476d-8069-f8fc88e03bbe",
   "metadata": {},
   "outputs": [],
   "source": []
  },
  {
   "cell_type": "markdown",
   "id": "4282532c-66c9-4e3c-b019-346f021ab040",
   "metadata": {},
   "source": [
    "53. Consider the vector [1, 2, 3, 4, 5], how to build a new vector with 3 consecutive zeros interleaved between each value? (★★★)"
   ]
  },
  {
   "cell_type": "code",
   "execution_count": null,
   "id": "4e66eda6-6d0b-41af-8951-8e9286e4a8ec",
   "metadata": {},
   "outputs": [],
   "source": []
  },
  {
   "cell_type": "markdown",
   "id": "be04bd76-40b0-4739-bef8-0dba4c579de9",
   "metadata": {},
   "source": [
    "54. Consider an array of dimension (5,5,3), how to mulitply it by an array with dimensions (5,5)? (★★★)"
   ]
  },
  {
   "cell_type": "code",
   "execution_count": null,
   "id": "e26a9689-373b-4ab0-a127-38ece6855dfa",
   "metadata": {},
   "outputs": [],
   "source": []
  },
  {
   "cell_type": "markdown",
   "id": "b1341d17-9b67-416d-8f4c-4eaaf8631328",
   "metadata": {},
   "source": [
    "55. How to swap two rows of an array? (★★★)"
   ]
  },
  {
   "cell_type": "code",
   "execution_count": null,
   "id": "9a4a85aa-fad4-4eb7-bb18-e0930afe5aa5",
   "metadata": {},
   "outputs": [],
   "source": []
  },
  {
   "cell_type": "markdown",
   "id": "daf8b5af-e574-4226-9564-c381855dd924",
   "metadata": {},
   "source": [
    "56. Consider a set of 10 triplets describing 10 triangles (with shared vertices), find the set of unique line segments composing all the triangles (★★★)"
   ]
  },
  {
   "cell_type": "code",
   "execution_count": null,
   "id": "dfd57ed1-c4e6-4c0c-a2db-3d716f7996f8",
   "metadata": {},
   "outputs": [],
   "source": []
  },
  {
   "cell_type": "markdown",
   "id": "5f3cde16-3990-46ba-8e31-7fe393a648a0",
   "metadata": {},
   "source": [
    "57. Given a sorted array C that corresponds to a bincount, how to produce an array A such that np.bincount(A) == C? (★★★)"
   ]
  },
  {
   "cell_type": "code",
   "execution_count": null,
   "id": "e5171f1e-96b6-4100-bf6a-ef8606407011",
   "metadata": {},
   "outputs": [],
   "source": []
  },
  {
   "cell_type": "markdown",
   "id": "66b330f5-8719-442d-8863-2876d7374c26",
   "metadata": {},
   "source": [
    "58. How to compute averages using a sliding window over an array? (★★★)"
   ]
  },
  {
   "cell_type": "code",
   "execution_count": null,
   "id": "93439d76-1e53-4ba3-bb6b-e040f3e121a7",
   "metadata": {},
   "outputs": [],
   "source": []
  },
  {
   "cell_type": "markdown",
   "id": "16e4c6b3-8fdc-4cd1-a8eb-c04b9b43d7eb",
   "metadata": {},
   "source": [
    "59. Consider a one-dimensional array Z, build a two-dimensional array whose first row is (Z[0],Z[1],Z[2]) and each subsequent row is shifted by 1 (last row should be (Z[-3],Z[-2],Z[-1]) (★★★)"
   ]
  },
  {
   "cell_type": "code",
   "execution_count": null,
   "id": "c0e905ce-31cd-4cbf-8b0f-6de18bccec66",
   "metadata": {},
   "outputs": [],
   "source": []
  },
  {
   "cell_type": "markdown",
   "id": "2b9694ee-fae1-42d7-b51c-b170261f6858",
   "metadata": {},
   "source": [
    "60. How to negate a boolean, or to change the sign of a float inplace? (★★★)"
   ]
  },
  {
   "cell_type": "code",
   "execution_count": null,
   "id": "a637c78d-bcf8-4930-8d03-43f8db452e3d",
   "metadata": {},
   "outputs": [],
   "source": []
  },
  {
   "cell_type": "markdown",
   "id": "48f79470-ba31-4fd0-aac5-481cbe524549",
   "metadata": {},
   "source": [
    "61. Consider 2 sets of points P0,P1 describing lines (2d) and a point p, how to compute distance from p to each line i (P0[i],P1[i])? (★★★)"
   ]
  },
  {
   "cell_type": "code",
   "execution_count": null,
   "id": "1a92ae7f-3897-4cc4-b4e1-1705933c6e14",
   "metadata": {},
   "outputs": [],
   "source": []
  },
  {
   "cell_type": "markdown",
   "id": "2aa594bf-49cb-4442-9859-142cb4aa003d",
   "metadata": {},
   "source": [
    "62. Consider 2 sets of points P0,P1 describing lines (2d) and a set of points P, how to compute distance from each point j (P[j]) to each line i (P0[i],P1[i])? (★★★)"
   ]
  },
  {
   "cell_type": "code",
   "execution_count": null,
   "id": "6cc68531-be11-4143-9299-cfa9c9062046",
   "metadata": {},
   "outputs": [],
   "source": []
  },
  {
   "cell_type": "markdown",
   "id": "ff838dfa-cc35-4836-a7a4-057f48af8bdf",
   "metadata": {},
   "source": [
    "63. Consider an arbitrary array, write a function that extract a subpart with a fixed shape and centered on a given element (pad with a fill value when necessary) (★★★)"
   ]
  },
  {
   "cell_type": "code",
   "execution_count": null,
   "id": "f302aabd-321b-4f6e-bb6b-1a8eda0b9715",
   "metadata": {},
   "outputs": [],
   "source": []
  },
  {
   "cell_type": "markdown",
   "id": "ad5dfb9d-b893-451c-83ff-d386cba562a0",
   "metadata": {},
   "source": [
    "64. Consider an array Z = [1,2,3,4,5,6,7,8,9,10,11,12,13,14], how to generate an array R = [[1,2,3,4], [2,3,4,5], [3,4,5,6], ..., [11,12,13,14]]? (★★★)"
   ]
  },
  {
   "cell_type": "code",
   "execution_count": null,
   "id": "140d7ac7-9d3e-4e0e-9908-80feef71cedd",
   "metadata": {},
   "outputs": [],
   "source": []
  },
  {
   "cell_type": "markdown",
   "id": "d78e911d-b81b-4e84-ad19-79c35e593675",
   "metadata": {},
   "source": [
    "65. Compute a matrix rank (★★★)"
   ]
  },
  {
   "cell_type": "code",
   "execution_count": null,
   "id": "737a8e49-2c5d-4e3a-bd17-789327f9f673",
   "metadata": {},
   "outputs": [],
   "source": []
  },
  {
   "cell_type": "markdown",
   "id": "1ee76633-a1ef-42b5-b577-730157cf7234",
   "metadata": {},
   "source": [
    "66. How to find the most frequent value in an array?"
   ]
  },
  {
   "cell_type": "code",
   "execution_count": null,
   "id": "5c59ed3f-241c-4676-8c21-ca90f170b43f",
   "metadata": {},
   "outputs": [],
   "source": []
  },
  {
   "cell_type": "markdown",
   "id": "815ca0ef-f7ed-4c6b-8977-ecabb310bd28",
   "metadata": {},
   "source": [
    "67. Extract all the contiguous 3x3 blocks from a random 10x10 matrix (★★★)"
   ]
  },
  {
   "cell_type": "code",
   "execution_count": null,
   "id": "c93bee29-09f6-4b65-8ad4-3d9bb5a9f110",
   "metadata": {},
   "outputs": [],
   "source": []
  },
  {
   "cell_type": "markdown",
   "id": "11712841-86f2-4a25-99f9-84a78e2f6587",
   "metadata": {},
   "source": [
    "68. Create a 2D array subclass such that Z[i,j] == Z[j,i] (★★★)"
   ]
  },
  {
   "cell_type": "code",
   "execution_count": null,
   "id": "81de2d37-d541-4051-9980-c2103aa75807",
   "metadata": {},
   "outputs": [],
   "source": []
  },
  {
   "cell_type": "markdown",
   "id": "0495f2c9-3f2d-4902-886a-d922edda04d6",
   "metadata": {},
   "source": [
    "69. Consider a set of p matrices wich shape (n,n) and a set of p vectors with shape (n,1). How to compute the sum of of the p matrix products at once? (result has shape (n,1)) (★★★)"
   ]
  },
  {
   "cell_type": "code",
   "execution_count": null,
   "id": "54f416e2-c4e5-4871-8984-78a917bcae19",
   "metadata": {},
   "outputs": [],
   "source": []
  },
  {
   "cell_type": "markdown",
   "id": "0a10ae39-2467-4faa-bd24-0744a56b6d27",
   "metadata": {},
   "source": [
    "70. Consider a 16x16 array, how to get the block-sum (block size is 4x4)? (★★★)"
   ]
  },
  {
   "cell_type": "code",
   "execution_count": null,
   "id": "e37758e3-d29c-4381-80ac-55191f10454a",
   "metadata": {},
   "outputs": [],
   "source": []
  },
  {
   "cell_type": "markdown",
   "id": "814bc5f1-bfa0-4d96-8102-858b9d1328e6",
   "metadata": {},
   "source": [
    "71. How to implement the Game of Life using numpy arrays? (★★★)"
   ]
  },
  {
   "cell_type": "code",
   "execution_count": null,
   "id": "6846bc35-404e-476e-94ca-6c85b015c058",
   "metadata": {},
   "outputs": [],
   "source": []
  },
  {
   "cell_type": "markdown",
   "id": "cf032f4e-a042-4732-9d19-062c3ef59bde",
   "metadata": {},
   "source": [
    "72. How to get the n largest values of an array (★★★)"
   ]
  },
  {
   "cell_type": "code",
   "execution_count": null,
   "id": "8108c226-910e-4164-b143-7b64803b6ca2",
   "metadata": {},
   "outputs": [],
   "source": []
  },
  {
   "cell_type": "markdown",
   "id": "29cb120f-67e3-458d-bd82-faf4df52759d",
   "metadata": {},
   "source": [
    "73. Given an arbitrary number of vectors, build the cartesian product (every combinations of every item) (★★★)"
   ]
  },
  {
   "cell_type": "code",
   "execution_count": null,
   "id": "dd87e2cc-ff8e-415c-951a-5c2674bd9ada",
   "metadata": {},
   "outputs": [],
   "source": []
  },
  {
   "cell_type": "markdown",
   "id": "aebe279f-df77-4eaa-9b5b-3afbb09330de",
   "metadata": {},
   "source": [
    "74. How to create a record array from a regular array? (★★★)"
   ]
  },
  {
   "cell_type": "code",
   "execution_count": null,
   "id": "3b28f8e8-5cb5-4919-9adb-61ffa9c2d817",
   "metadata": {},
   "outputs": [],
   "source": []
  },
  {
   "cell_type": "markdown",
   "id": "452e7cfa-d8a1-4d9f-b01d-35a323a9e1ac",
   "metadata": {},
   "source": [
    "75. Consider a large vector Z, compute Z to the power of 3 using 3 different methods (★★★)"
   ]
  },
  {
   "cell_type": "code",
   "execution_count": null,
   "id": "f35ee891-6894-4682-af60-a22e5a23827d",
   "metadata": {},
   "outputs": [],
   "source": []
  },
  {
   "cell_type": "markdown",
   "id": "359139d1-b15e-474e-a958-69e6eda81498",
   "metadata": {},
   "source": [
    "76. Consider two arrays A and B of shape (8,3) and (2,2). How to find rows of A that contain elements of each row of B regardless of the order of the elements in B? (★★★)"
   ]
  },
  {
   "cell_type": "code",
   "execution_count": null,
   "id": "8e7576ba-3f86-4911-a86f-fee2f5426b4d",
   "metadata": {},
   "outputs": [],
   "source": []
  },
  {
   "cell_type": "markdown",
   "id": "c2cfa7e9-c06c-47bf-8a21-7be4cb29e5da",
   "metadata": {},
   "source": [
    "77. Considering a 10x3 matrix, extract rows with unequal values (e.g. [2,2,3]) (★★★)"
   ]
  },
  {
   "cell_type": "code",
   "execution_count": null,
   "id": "c8c371a8-760a-44df-913f-eab8f6c7ea16",
   "metadata": {},
   "outputs": [],
   "source": []
  },
  {
   "cell_type": "markdown",
   "id": "b2a9a614-8929-41a5-a85b-370d2b0ebfb1",
   "metadata": {},
   "source": [
    "78. Convert a vector of ints into a matrix binary representation (★★★)"
   ]
  },
  {
   "cell_type": "code",
   "execution_count": null,
   "id": "02e867a7-0c67-4aac-aece-0f57e7ec7515",
   "metadata": {},
   "outputs": [],
   "source": []
  },
  {
   "cell_type": "markdown",
   "id": "f68cb8cb-688d-4efc-96a0-d1c80250289d",
   "metadata": {},
   "source": [
    "79. Given a two dimensional array, how to extract unique rows? (★★★)"
   ]
  },
  {
   "cell_type": "code",
   "execution_count": null,
   "id": "aa0c48aa-8691-49dc-934b-1126a9dbf151",
   "metadata": {},
   "outputs": [],
   "source": []
  },
  {
   "cell_type": "markdown",
   "id": "2659acf5-4614-4d5e-a23d-e8e3d031a18b",
   "metadata": {},
   "source": [
    "80. Considering 2 vectors A & B, write the einsum equivalent of inner, outer, sum, and mul function (★★★)"
   ]
  },
  {
   "cell_type": "code",
   "execution_count": null,
   "id": "783c98ca-cbc4-4097-978d-6d057c7702e8",
   "metadata": {},
   "outputs": [],
   "source": []
  },
  {
   "cell_type": "markdown",
   "id": "cf52a844-258b-4354-8d04-61e034cc64ea",
   "metadata": {},
   "source": [
    "81. Considering a path described by two vectors (X,Y), how to sample it using equidistant samples (★★★)?"
   ]
  },
  {
   "cell_type": "code",
   "execution_count": null,
   "id": "5d08f15b-829d-4ca2-af31-e0f9620698d8",
   "metadata": {},
   "outputs": [],
   "source": []
  },
  {
   "cell_type": "markdown",
   "id": "8d0b759b-c29b-439e-bc1c-33a8cf5aab08",
   "metadata": {},
   "source": [
    "82. Given an integer n and a 2D array X, select from X the rows which can be interpreted as draws from a multinomial distribution with n degrees, i.e., the rows which only contain integers and which sum to n. (★★★)"
   ]
  },
  {
   "cell_type": "code",
   "execution_count": null,
   "id": "a17ca410-079e-43a5-b2b2-370f61fc6469",
   "metadata": {},
   "outputs": [],
   "source": []
  },
  {
   "cell_type": "markdown",
   "id": "691bb5b6-4849-4d49-b7f4-63794eb5a446",
   "metadata": {},
   "source": [
    "83. Compute bootstrapped 95% confidence intervals for the mean of a 1D array X (i.e., resample the elements of an array with replacement N times, compute the mean of each sample, and then compute percentiles over the means). (★★★)"
   ]
  },
  {
   "cell_type": "code",
   "execution_count": null,
   "id": "0a576f9e-11f8-4271-8b16-dcf1f3aaef33",
   "metadata": {},
   "outputs": [],
   "source": []
  }
 ],
 "metadata": {
  "kernelspec": {
   "display_name": "Haskell",
   "language": "haskell",
   "name": "haskell"
  },
  "language_info": {
   "codemirror_mode": "ihaskell",
   "file_extension": ".hs",
   "mimetype": "text/x-haskell",
   "name": "haskell",
   "pygments_lexer": "Haskell",
   "version": "9.2.5"
  }
 },
 "nbformat": 4,
 "nbformat_minor": 5
}
